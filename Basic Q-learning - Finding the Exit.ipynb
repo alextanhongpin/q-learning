{
 "cells": [
  {
   "cell_type": "markdown",
   "metadata": {},
   "source": [
    "# Q-learning\n",
    "\n",
    "http://mnemstudio.org/path-finding-q-learning-tutorial.htm"
   ]
  },
  {
   "cell_type": "code",
   "execution_count": null,
   "metadata": {
    "collapsed": true
   },
   "outputs": [],
   "source": [
    "# Set the gamma parameter, and environment rewards in matrix r\n",
    "# state * action matrix\n",
    "# state 1 (row 2) and action 5 (column 6) is the end goal\n",
    "states = 6\n",
    "actions = 6\n",
    "\n",
    "reward_matrix = [\n",
    "    [-1, -1, -1, -1, 0, 1],\n",
    "    [-1, -1, -1, 0, -1, 100],\n",
    "    [-1, -1, -1, 0, -1, -1],\n",
    "    [-1, 0, 0, -1, 0, -1],\n",
    "    [0, -1, -1, 0, -1, 100],\n",
    "    [-1, 0, -1, -1, 0, 100]\n",
    "]"
   ]
  },
  {
   "cell_type": "markdown",
   "metadata": {},
   "source": [
    "Q(state, action) = R(state, action) + Gamma * Max[Q(next state, all actions)]"
   ]
  },
  {
   "cell_type": "code",
   "execution_count": 21,
   "metadata": {
    "collapsed": false
   },
   "outputs": [
    {
     "name": "stdout",
     "output_type": "stream",
     "text": [
      "[[ 0.  0.  0.  0.  0.  0.]\n",
      " [ 0.  0.  0.  0.  0.  0.]\n",
      " [ 0.  0.  0.  0.  0.  0.]\n",
      " [ 0.  0.  0.  0.  0.  0.]\n",
      " [ 0.  0.  0.  0.  0.  0.]\n",
      " [ 0.  0.  0.  0.  0.  0.]]\n"
     ]
    }
   ],
   "source": [
    "import numpy as np\n",
    "\n",
    "# Initialize q-matrix to zeros\n",
    "q_matrix = np.zeros((states, actions), dtype=np.float64)\n",
    "print(q_matrix)"
   ]
  },
  {
   "cell_type": "code",
   "execution_count": 134,
   "metadata": {
    "collapsed": false
   },
   "outputs": [
    {
     "name": "stdout",
     "output_type": "stream",
     "text": [
      "norm_matrix:\n",
      " [[   0.     0.     0.     0.     0.    80.2]\n",
      " [   0.     0.     0.    64.     0.   100. ]\n",
      " [   0.     0.     0.    64.     0.     0. ]\n",
      " [   0.    80.    51.2    0.     0.     0. ]\n",
      " [   0.     0.     0.     0.     0.     0. ]\n",
      " [   0.    80.     0.     0.     0.   100. ]]\n",
      "move from 2 to 3\n",
      "move from 3 to 1\n",
      "move from 1 to 5\n",
      "num_steps: 3\n"
     ]
    }
   ],
   "source": [
    "import random\n",
    "\n",
    "gamma = 0.8\n",
    "episodes = 100000\n",
    "\n",
    "# Based on the number of actions, create an array of choices\n",
    "choices = np.linspace(0, states - 1, states - 1)\n",
    "\n",
    "\n",
    "for i in range(episodes):\n",
    "    # Select a random initial state\n",
    "    state = int(random.choice(choices))\n",
    "\n",
    "    # Select a possible action\n",
    "    action = int(random.choice(choices))\n",
    "    \n",
    "    # Take only non-negative moves\n",
    "    if (reward_matrix[state][action] >= 0):\n",
    "        r = reward_matrix[state][action]\n",
    "        max_state = np.max(q_matrix[action])\n",
    "        q_matrix[state][action] = r + 0.8 * max_state\n",
    "\n",
    "scores = []\n",
    "for _, v in enumerate(q_matrix):\n",
    "    scores.append(np.max(v))\n",
    "\n",
    "norm_matrix = q_matrix / np.array(np.max(scores)) * 100\n",
    "\n",
    "print('norm_matrix:\\n {}'.format(norm_matrix))\n",
    "# Use the results, starting from action 2\n",
    "\n",
    "loop = True\n",
    "state = 2\n",
    "num_steps = 0\n",
    "while loop:\n",
    "    action = np.argmax(norm_matrix[state])\n",
    "    print(\"move from {} to {}\".format(state, action))\n",
    "    state = action\n",
    "    num_steps += 1 \n",
    "    if (state == 1 or state == 5) and action == 5:\n",
    "        loop = False\n",
    "        break\n",
    "\n",
    "print(\"num_steps: {}\".format(num_steps))\n"
   ]
  }
 ],
 "metadata": {
  "kernelspec": {
   "display_name": "Python 3",
   "language": "python",
   "name": "python3"
  },
  "language_info": {
   "codemirror_mode": {
    "name": "ipython",
    "version": 3
   },
   "file_extension": ".py",
   "mimetype": "text/x-python",
   "name": "python",
   "nbconvert_exporter": "python",
   "pygments_lexer": "ipython3",
   "version": "3.6.2"
  }
 },
 "nbformat": 4,
 "nbformat_minor": 2
}
